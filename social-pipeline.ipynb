{
 "cells": [
  {
   "cell_type": "code",
   "execution_count": 13,
   "metadata": {},
   "outputs": [],
   "source": [
    "from TikTokApi import TikTokApi \n",
    "import yt_dlp as yt"
   ]
  },
  {
   "cell_type": "code",
   "execution_count": 14,
   "metadata": {},
   "outputs": [],
   "source": [
    "def download_tiktok_audio(video_url, output_filename):\n",
    "    ydl_opts = {\n",
    "        'format': 'bestaudio/best',\n",
    "        'outtmpl': output_filename,\n",
    "        'postprocessors': [{\n",
    "            'key': 'FFmpegExtractAudio',\n",
    "            'preferredcodec': 'mp3',\n",
    "            'preferredquality': '192',\n",
    "        }],\n",
    "    }\n",
    "\n",
    "    with yt.YoutubeDL(ydl_opts) as ydl:\n",
    "        ydl.download([video_url])"
   ]
  },
  {
   "cell_type": "code",
   "execution_count": 15,
   "metadata": {},
   "outputs": [],
   "source": [
    "def get_tiktok_metadata(video_url):\n",
    "    api = TikTokApi()\n",
    "    video_id = video_url.split('/')[-1].split('?')[0]  # Extraction de l'ID vidéo à partir du lien\n",
    "    video_data = api.video(id=video_id).info()\n",
    "    return video_data"
   ]
  },
  {
   "cell_type": "code",
   "execution_count": 16,
   "metadata": {},
   "outputs": [],
   "source": [
    "video_url = \"https://www.tiktok.com/@visitberlin/video/7197066062129663237\"  # Remplacez par votre lien TikTok\n",
    "output_filename = \"audio.mp3\""
   ]
  },
  {
   "cell_type": "code",
   "execution_count": 23,
   "metadata": {},
   "outputs": [
    {
     "name": "stdout",
     "output_type": "stream",
     "text": [
      "[TikTok] Extracting URL: https://www.tiktok.com/@visitberlin/video/7197066062129663237\n",
      "[TikTok] 7197066062129663237: Downloading webpage\n",
      "[info] 7197066062129663237: Downloading 1 format(s): bytevc1_1080p_1785807-2\n",
      "[download] Antwort auf @E•M•Y 👉 Secret Spot in Berlin🤫 #secretspot #berlin #visitberlin #museum  [7197066062129663237].mp4 has already been downloaded\n",
      "\u001b[K[download] 100% of    2.86MiB\n",
      "[ExtractAudio] Destination: Antwort auf @E•M•Y 👉 Secret Spot in Berlin🤫 #secretspot #berlin #visitberlin #museum  [7197066062129663237].mp3\n",
      "Deleting original file Antwort auf @E•M•Y 👉 Secret Spot in Berlin🤫 #secretspot #berlin #visitberlin #museum  [7197066062129663237].mp4 (pass -k to keep)\n"
     ]
    }
   ],
   "source": [
    "!yt-dlp -x --audio-format mp3 https://www.tiktok.com/@visitberlin/video/7197066062129663237"
   ]
  },
  {
   "cell_type": "code",
   "execution_count": null,
   "metadata": {},
   "outputs": [],
   "source": [
    "metadata = get_tiktok_metadata(video_url)\n"
   ]
  },
  {
   "cell_type": "code",
   "execution_count": null,
   "metadata": {},
   "outputs": [],
   "source": [
    "print(metadata)\n"
   ]
  }
 ],
 "metadata": {
  "kernelspec": {
   "display_name": ".venv",
   "language": "python",
   "name": "python3"
  },
  "language_info": {
   "codemirror_mode": {
    "name": "ipython",
    "version": 3
   },
   "file_extension": ".py",
   "mimetype": "text/x-python",
   "name": "python",
   "nbconvert_exporter": "python",
   "pygments_lexer": "ipython3",
   "version": "3.12.5"
  }
 },
 "nbformat": 4,
 "nbformat_minor": 2
}
