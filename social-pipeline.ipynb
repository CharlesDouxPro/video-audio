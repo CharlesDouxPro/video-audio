{
 "cells": [
  {
   "cell_type": "code",
   "execution_count": 15,
   "metadata": {},
   "outputs": [
    {
     "name": "stdout",
     "output_type": "stream",
     "text": [
      "If pyktok does not operate as expected, you may find it helpful to run the 'specify_browser' function. 'specify_browser' takes as its sole argument a string representing a browser installed on your system, e.g. \"chrome,\" \"firefox,\" \"edge,\" etc.\n"
     ]
    }
   ],
   "source": [
    "from TikTokApi import TikTokApi \n",
    "import yt_dlp as yt\n",
    "import whisper\n",
    "import pyktok as pyk\n"
   ]
  },
  {
   "cell_type": "code",
   "execution_count": 19,
   "metadata": {},
   "outputs": [],
   "source": [
    "def download_tiktok_audio(video_url, output_filename):\n",
    "    ydl_opts = {\n",
    "        'format': 'bestaudio/best',\n",
    "        'outtmpl': output_filename,\n",
    "        'postprocessors': [{\n",
    "            'key': 'FFmpegExtractAudio',\n",
    "            'preferredcodec': 'mp3',\n",
    "            'preferredquality': '192',\n",
    "        }],\n",
    "    }\n",
    "\n",
    "    with yt.YoutubeDL(ydl_opts) as ydl:\n",
    "        ydl.download([video_url])"
   ]
  },
  {
   "cell_type": "code",
   "execution_count": 3,
   "metadata": {},
   "outputs": [],
   "source": [
    "def get_tiktok_metadata(video_url):\n",
    "    api = TikTokApi()\n",
    "    video_id = video_url.split('/')[-1].split('?')[0]  # Extraction de l'ID vidéo à partir du lien\n",
    "    video_data = api.video(id=video_id).info()\n",
    "    return video_data"
   ]
  },
  {
   "cell_type": "code",
   "execution_count": 4,
   "metadata": {},
   "outputs": [],
   "source": [
    "video_url = \"https://www.tiktok.com/@visitberlin/video/7197066062129663237\"  # Remplacez par votre lien TikTok\n",
    "output_filename = \"audio.mp3\""
   ]
  },
  {
   "cell_type": "code",
   "execution_count": 13,
   "metadata": {},
   "outputs": [
    {
     "name": "stderr",
     "output_type": "stream",
     "text": [
      "/var/folders/5_/q9j1rt757zv7l27qw5s892lr0000gn/T/ipykernel_83381/2372195934.py:1: RuntimeWarning: coroutine 'Video.info' was never awaited\n",
      "  metadata = get_tiktok_metadata(video_url)\n",
      "RuntimeWarning: Enable tracemalloc to get the object allocation traceback\n"
     ]
    }
   ],
   "source": [
    "metadata = get_tiktok_metadata(video_url)\n"
   ]
  },
  {
   "cell_type": "code",
   "execution_count": 14,
   "metadata": {},
   "outputs": [
    {
     "name": "stdout",
     "output_type": "stream",
     "text": [
      "<coroutine object Video.info at 0x12dd30040>\n"
     ]
    }
   ],
   "source": [
    "print(metadata)\n"
   ]
  },
  {
   "cell_type": "code",
   "execution_count": 7,
   "metadata": {},
   "outputs": [
    {
     "name": "stdout",
     "output_type": "stream",
     "text": [
      "[TikTok] Extracting URL: https://www.tiktok.com/@visitberlin/video/7197066062129663237\n",
      "[TikTok] 7197066062129663237: Downloading webpage\n",
      "[info] 7197066062129663237: Downloading 1 format(s): bytevc1_1080p_1785807-2\n",
      "[download] Destination: audio.mp3\n",
      "[download] 100% of    2.86MiB in 00:00:07 at 405.15KiB/s \n",
      "[ExtractAudio] Destination: audio.mp3.mp3\n",
      "Deleting original file audio.mp3 (pass -k to keep)\n"
     ]
    }
   ],
   "source": [
    "download_tiktok_audio(video_url,output_filename)"
   ]
  },
  {
   "cell_type": "code",
   "execution_count": 11,
   "metadata": {},
   "outputs": [
    {
     "name": "stderr",
     "output_type": "stream",
     "text": [
      "/Users/user/miniconda3/envs/travelapp/lib/python3.12/site-packages/whisper/__init__.py:146: FutureWarning: You are using `torch.load` with `weights_only=False` (the current default value), which uses the default pickle module implicitly. It is possible to construct malicious pickle data which will execute arbitrary code during unpickling (See https://github.com/pytorch/pytorch/blob/main/SECURITY.md#untrusted-models for more details). In a future release, the default value for `weights_only` will be flipped to `True`. This limits the functions that could be executed during unpickling. Arbitrary objects will no longer be allowed to be loaded via this mode unless they are explicitly allowlisted by the user via `torch.serialization.add_safe_globals`. We recommend you start setting `weights_only=True` for any use case where you don't have full control of the loaded file. Please open an issue on GitHub for any issues related to this experimental feature.\n",
      "  checkpoint = torch.load(fp, map_location=device)\n",
      "/Users/user/miniconda3/envs/travelapp/lib/python3.12/site-packages/whisper/transcribe.py:115: UserWarning: FP16 is not supported on CPU; using FP32 instead\n",
      "  warnings.warn(\"FP16 is not supported on CPU; using FP32 instead\")\n"
     ]
    },
    {
     "name": "stdout",
     "output_type": "stream",
     "text": [
      " Wo und was ist das mit den Spiegeln? Dieses Museum direkt am Potsdamer Platz ist ein echter Geheimtipp in Berlin. In der jeder Ecke warten hier super coole Foto-Sports und nebenbei könnt ihr etwas über die Entwicklung von Film und Fernsehen erfahren. Und wenn ihr euch jetzt immer noch fragt...\n"
     ]
    }
   ],
   "source": [
    "model = whisper.load_model(\"base\")\n",
    "result = model.transcribe(\"audio.mp3\")\n",
    "print(result[\"text\"])"
   ]
  },
  {
   "cell_type": "code",
   "execution_count": 12,
   "metadata": {},
   "outputs": [
    {
     "name": "stderr",
     "output_type": "stream",
     "text": [
      "/Users/user/miniconda3/envs/travelapp/lib/python3.12/site-packages/whisper/__init__.py:146: FutureWarning: You are using `torch.load` with `weights_only=False` (the current default value), which uses the default pickle module implicitly. It is possible to construct malicious pickle data which will execute arbitrary code during unpickling (See https://github.com/pytorch/pytorch/blob/main/SECURITY.md#untrusted-models for more details). In a future release, the default value for `weights_only` will be flipped to `True`. This limits the functions that could be executed during unpickling. Arbitrary objects will no longer be allowed to be loaded via this mode unless they are explicitly allowlisted by the user via `torch.serialization.add_safe_globals`. We recommend you start setting `weights_only=True` for any use case where you don't have full control of the loaded file. Please open an issue on GitHub for any issues related to this experimental feature.\n",
      "  checkpoint = torch.load(fp, map_location=device)\n"
     ]
    },
    {
     "name": "stdout",
     "output_type": "stream",
     "text": [
      "Detected language: de\n",
      "Wo und was ist das mit den Spiegeln? Dieses Museum direkt am Potsdamer Platz ist ein echter Geheimtipp in Berlin. In der jeder Ecke warten hier super coole Foto-Sports und nebenbei könnt ihr etwas über die Entwicklung von Film und Fernsehen erfahren. Und wenn ihr euch jetzt immer noch fragt...\n"
     ]
    }
   ],
   "source": [
    "\n",
    "\n",
    "model = whisper.load_model(\"base\")\n",
    "\n",
    "# load audio and pad/trim it to fit 30 seconds\n",
    "audio = whisper.load_audio(\"audio.mp3\")\n",
    "audio = whisper.pad_or_trim(audio)\n",
    "\n",
    "# make log-Mel spectrogram and move to the same device as the model\n",
    "mel = whisper.log_mel_spectrogram(audio).to(model.device)\n",
    "\n",
    "# detect the spoken language\n",
    "_, probs = model.detect_language(mel)\n",
    "print(f\"Detected language: {max(probs, key=probs.get)}\")\n",
    "\n",
    "# decode the audio\n",
    "options = whisper.DecodingOptions()\n",
    "result = whisper.decode(model, mel, options)\n",
    "\n",
    "# print the recognized text\n",
    "print(result.text)"
   ]
  },
  {
   "cell_type": "code",
   "execution_count": 18,
   "metadata": {},
   "outputs": [
    {
     "name": "stdout",
     "output_type": "stream",
     "text": [
      "Saved metadata for video\n",
      " https://www.tiktok.com/@visitberlin/video/7197066062129663237 \n",
      "to\n",
      " /Users/user/Documents/ProjetIATiktok\n"
     ]
    }
   ],
   "source": [
    "pyk.save_tiktok(video_url,\n",
    "\t        False,\n",
    "            'video_data.csv')\n"
   ]
  },
  {
   "cell_type": "code",
   "execution_count": null,
   "metadata": {},
   "outputs": [],
   "source": []
  }
 ],
 "metadata": {
  "kernelspec": {
   "display_name": ".venv",
   "language": "python",
   "name": "python3"
  },
  "language_info": {
   "codemirror_mode": {
    "name": "ipython",
    "version": 3
   },
   "file_extension": ".py",
   "mimetype": "text/x-python",
   "name": "python",
   "nbconvert_exporter": "python",
   "pygments_lexer": "ipython3",
   "version": "3.12.5"
  }
 },
 "nbformat": 4,
 "nbformat_minor": 2
}
